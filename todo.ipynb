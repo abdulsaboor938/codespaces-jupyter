{
 "cells": [
  {
   "cell_type": "code",
   "execution_count": 8,
   "metadata": {},
   "outputs": [],
   "source": [
    "# this notebook is the agenda for the project\n",
    "\n",
    "# most of the code is available in the notebooks of the Lab folder"
   ]
  },
  {
   "cell_type": "code",
   "execution_count": 11,
   "metadata": {},
   "outputs": [
    {
     "data": {
      "text/plain": [
       "'\\n- read the data\\n- finding null values\\n- filling null values\\n- finding outliers\\n- filling outliers\\n- finding duplicates\\n- dropping duplicates\\n- finding and dropping useless columns\\n- creating correlation matrix\\n- creating a heatmap\\n'"
      ]
     },
     "execution_count": 11,
     "metadata": {},
     "output_type": "execute_result"
    }
   ],
   "source": [
    "# part 1: Basic Data Wrangling (chapter 3 of the book)\n",
    "\n",
    "'''\n",
    "- read the data\n",
    "- finding null values\n",
    "- filling null values\n",
    "- finding outliers\n",
    "- filling outliers\n",
    "- finding duplicates\n",
    "- dropping duplicates\n",
    "- finding and dropping useless columns\n",
    "- creating correlation matrix\n",
    "- creating a heatmap\n",
    "'''"
   ]
  },
  {
   "cell_type": "code",
   "execution_count": 1,
   "metadata": {},
   "outputs": [
    {
     "data": {
      "text/plain": [
       "'\\n- creating filters\\n- correlation and convolution on images\\n- applying different filters on images\\n- application of noise removal\\n'"
      ]
     },
     "execution_count": 1,
     "metadata": {},
     "output_type": "execute_result"
    }
   ],
   "source": [
    "# part 2: Feature Extraction\n",
    "\n",
    "'''\n",
    "- creating filters\n",
    "- correlation and convolution on images\n",
    "- applying different filters on images\n",
    "- application of noise removal\n",
    "'''"
   ]
  },
  {
   "cell_type": "code",
   "execution_count": 2,
   "metadata": {},
   "outputs": [
    {
     "data": {
      "text/plain": [
       "'\\n- n-grams\\n- bow\\n- creating unique words\\n- creating unigrams, bigrams\\n'"
      ]
     },
     "execution_count": 2,
     "metadata": {},
     "output_type": "execute_result"
    }
   ],
   "source": [
    "# part 3: Textual Data\n",
    "\n",
    "'''\n",
    "- n-grams\n",
    "- bow\n",
    "- creating unique words\n",
    "- creating unigrams, bigrams\n",
    "'''"
   ]
  },
  {
   "cell_type": "code",
   "execution_count": 3,
   "metadata": {},
   "outputs": [
    {
     "data": {
      "text/plain": [
       "'\\n- linear regression on car mileage data, same as practice\\n- logistic regression on the excel data\\n'"
      ]
     },
     "execution_count": 3,
     "metadata": {},
     "output_type": "execute_result"
    }
   ],
   "source": [
    "# part 4: Regression\n",
    "\n",
    "'''\n",
    "- linear regression on car mileage data, same as practice\n",
    "- logistic regression on the excel data\n",
    "'''"
   ]
  },
  {
   "cell_type": "code",
   "execution_count": 4,
   "metadata": {},
   "outputs": [
    {
     "data": {
      "text/plain": [
       "'\\n- creating sample neural networks as done in practice\\n- forward and backward pass if possible\\n'"
      ]
     },
     "execution_count": 4,
     "metadata": {},
     "output_type": "execute_result"
    }
   ],
   "source": [
    "# part 5: Neural Networks\n",
    "\n",
    "'''\n",
    "- creating sample neural networks as done in practice\n",
    "- forward and backward pass if possible\n",
    "'''"
   ]
  },
  {
   "cell_type": "code",
   "execution_count": 5,
   "metadata": {},
   "outputs": [
    {
     "data": {
      "text/plain": [
       "'\\n- try visualizations from the provided resource\\n'"
      ]
     },
     "execution_count": 5,
     "metadata": {},
     "output_type": "execute_result"
    }
   ],
   "source": [
    "# part 6: plotly\n",
    "\n",
    "'''\n",
    "- try visualizations from the provided resource\n",
    "'''"
   ]
  }
 ],
 "metadata": {
  "kernelspec": {
   "display_name": "Python 3",
   "language": "python",
   "name": "python3"
  },
  "language_info": {
   "codemirror_mode": {
    "name": "ipython",
    "version": 3
   },
   "file_extension": ".py",
   "mimetype": "text/x-python",
   "name": "python",
   "nbconvert_exporter": "python",
   "pygments_lexer": "ipython3",
   "version": "3.10.4 (main, Nov 29 2022, 20:00:25) [GCC 9.4.0]"
  },
  "orig_nbformat": 4,
  "vscode": {
   "interpreter": {
    "hash": "3ad933181bd8a04b432d3370b9dc3b0662ad032c4dfaa4e4f1596c548f763858"
   }
  }
 },
 "nbformat": 4,
 "nbformat_minor": 2
}
