{
 "cells": [
  {
   "cell_type": "code",
   "execution_count": null,
   "metadata": {},
   "outputs": [],
   "source": [
    "# using genetic algortihm to solve n-queens problem\n",
    "\n",
    "import random\n",
    "import numpy as np"
   ]
  },
  {
   "cell_type": "code",
   "execution_count": null,
   "metadata": {},
   "outputs": [],
   "source": [
    "# define the fitness function\n",
    "def fitness_function(chromosome):\n",
    "    # count the number of conflicts\n",
    "    conflicts = 0\n",
    "    for i in range(len(chromosome)):\n",
    "        for j in range(i+1, len(chromosome)):\n",
    "            if chromosome[i] == chromosome[j]:\n",
    "                conflicts += 1\n",
    "            if abs(chromosome[i] - chromosome[j]) == abs(i - j):\n",
    "                conflicts += 1\n",
    "    return conflicts"
   ]
  },
  {
   "cell_type": "code",
   "execution_count": null,
   "metadata": {},
   "outputs": [],
   "source": [
    "# define the selection function\n",
    "def selection(population, fitness):\n",
    "    # select the best half of the population\n",
    "    population = [x for _,x in sorted(zip(fitness, population))]\n",
    "    fitness = sorted(fitness)\n",
    "    return population[:len(population)//2], fitness[:len(fitness)//2]"
   ]
  },
  {
   "cell_type": "code",
   "execution_count": null,
   "metadata": {},
   "outputs": [],
   "source": [
    "# define the crossover function\n",
    "def crossover(population, fitness):\n",
    "    # select the best half of the population\n",
    "    population, fitness = selection(population, fitness)\n",
    "    # crossover the best half of the population\n",
    "    new_population = []\n",
    "    for i in range(len(population)):\n",
    "        for j in range(i+1, len(population)):\n",
    "            # crossover two chromosomes\n",
    "            chromosome1 = population[i]\n",
    "            chromosome2 = population[j]\n",
    "            # randomly select a crossover point\n",
    "            crossover_point = random.randint(0, len(chromosome1)-1)\n",
    "            # crossover\n",
    "            new_chromosome1 = chromosome1[:crossover_point] + chromosome2[crossover_point:]\n",
    "            new_chromosome2 = chromosome2[:crossover_point] + chromosome1[crossover_point:]\n",
    "            # add the new chromosomes to the new population\n",
    "            new_population.append(new_chromosome1)\n",
    "            new_population.append(new_chromosome2)\n",
    "    return new_population"
   ]
  },
  {
   "cell_type": "code",
   "execution_count": null,
   "metadata": {},
   "outputs": [],
   "source": [
    "# define the mutation function\n",
    "def mutation(population, fitness):\n",
    "    # select the best half of the population\n",
    "    population, fitness = selection(population, fitness)\n",
    "    # mutate the best half of the population\n",
    "    new_population = []\n",
    "    for chromosome in population:\n",
    "        # randomly select a mutation point\n",
    "        mutation_point = random.randint(0, len(chromosome)-1)\n",
    "        # randomly select a new value for the mutation point\n",
    "        new_value = random.randint(0, len(chromosome)-1)\n",
    "        # mutate\n",
    "        new_chromosome = chromosome[:mutation_point] + [new_value] + chromosome[mutation_point+1:]\n",
    "        # add the new chromosome to the new population\n",
    "        new_population.append(new_chromosome)\n",
    "    return new_population"
   ]
  },
  {
   "cell_type": "code",
   "execution_count": null,
   "metadata": {},
   "outputs": [],
   "source": [
    "# define the genetic algorithm\n",
    "def genetic_algorithm(population_size, chromosome_size, max_iterations):\n",
    "    # initialize the population\n",
    "    population = []\n",
    "    for i in range(population_size):\n",
    "        chromosome = []\n",
    "        for j in range(chromosome_size):\n",
    "            chromosome.append(random.randint(0, chromosome_size-1))\n",
    "        population.append(chromosome)\n",
    "    # iterate\n",
    "    for i in range(max_iterations):\n",
    "        # calculate the fitness\n",
    "        fitness = []\n",
    "        for chromosome in population:\n",
    "            fitness.append(fitness_function(chromosome))\n",
    "        # check if the solution is found\n",
    "        if 0 in fitness:\n",
    "            return population[fitness.index(0)]\n",
    "        # select, crossover and mutate\n",
    "        population = crossover(population, fitness)\n",
    "        population = mutation(population, fitness)\n",
    "    return None"
   ]
  },
  {
   "cell_type": "code",
   "execution_count": null,
   "metadata": {},
   "outputs": [],
   "source": [
    "# define the main function\n",
    "def main():\n",
    "    # define the parameters\n",
    "    # run the genetic algorithm\n",
    "    # print the best individual\n",
    "    # print the fitness of the best individual\n",
    "    population_size = 100\n",
    "    chromosome_size = 8\n",
    "    max_iterations = 1000\n",
    "    best_individual = genetic_algorithm(population_size, chromosome_size, max_iterations)\n",
    "\n",
    "    print(\"Best individual: \", best_individual)\n",
    "    print(\"Fitness of the best individual: \", fitness_function(best_individual))"
   ]
  },
  {
   "cell_type": "code",
   "execution_count": null,
   "metadata": {},
   "outputs": [],
   "source": [
    "# call the main function\n",
    "if __name__ == \"__main__\":\n",
    "    main()"
   ]
  }
 ],
 "metadata": {
  "kernelspec": {
   "display_name": "Python 3",
   "language": "python",
   "name": "python3"
  },
  "language_info": {
   "codemirror_mode": {
    "name": "ipython",
    "version": 3
   },
   "file_extension": ".py",
   "mimetype": "text/x-python",
   "name": "python",
   "nbconvert_exporter": "python",
   "pygments_lexer": "ipython3",
   "version": "3.10.4"
  },
  "orig_nbformat": 4
 },
 "nbformat": 4,
 "nbformat_minor": 2
}
