{
 "cells": [
  {
   "cell_type": "code",
   "execution_count": 24,
   "metadata": {},
   "outputs": [],
   "source": [
    "# Abdul Saboor\n",
    "# 20L-1113 (BDS-6A1)\n",
    "# Lab 1"
   ]
  },
  {
   "cell_type": "code",
   "execution_count": 25,
   "metadata": {},
   "outputs": [
    {
     "name": "stdout",
     "output_type": "stream",
     "text": [
      "The original string is :  1234abcd\n",
      "The reversed string(using reversed) is :  dcba4321\n"
     ]
    }
   ],
   "source": [
    "# question 9.1\n",
    "\n",
    "# function to reverse a string\n",
    "\n",
    "def reverse_string(str1):\n",
    "    return str1[::-1]\n",
    "\n",
    "str1 = '1234abcd'\n",
    "print(\"The original string is : \", str1)\n",
    "print(\"The reversed string(using reversed) is : \", reverse_string(str1))"
   ]
  },
  {
   "cell_type": "code",
   "execution_count": 26,
   "metadata": {},
   "outputs": [
    {
     "data": {
      "text/plain": [
       "True"
      ]
     },
     "execution_count": 26,
     "metadata": {},
     "output_type": "execute_result"
    }
   ],
   "source": [
    "# question 9.2\n",
    "\n",
    "# function to check if a string is a palindrome or not\n",
    "\n",
    "def isPalindrome(s):\n",
    "    s = s.lower()\n",
    "    s = s.replace(\" \", \"\")\n",
    "    s = s.replace(\".\", \"\")\n",
    "    s = s.replace(\",\", \"\")\n",
    "    s = s.replace(\"!\", \"\")\n",
    "    s = s.replace(\"?\", \"\")\n",
    "    if((s == s[::-1])==True):\n",
    "        return True\n",
    "    else:\n",
    "        return False\n",
    "\n",
    "s = \"malayalam\"\n",
    "isPalindrome(s)"
   ]
  },
  {
   "cell_type": "code",
   "execution_count": 35,
   "metadata": {},
   "outputs": [
    {
     "name": "stdout",
     "output_type": "stream",
     "text": [
      "2\n",
      "2\n"
     ]
    }
   ],
   "source": [
    "# question 9.3\n",
    "\n",
    "# function to find square root of a number\n",
    "\n",
    "def square_root(n):\n",
    "    # if not negative\n",
    "    if n >= 0:\n",
    "        # return square root\n",
    "        return int(n ** 0.5)\n",
    "    else:\n",
    "        # return error\n",
    "        return \"Error: negative number\"\n",
    "\n",
    "print(square_root(4))\n",
    "print(square_root(8))"
   ]
  },
  {
   "cell_type": "code",
   "execution_count": null,
   "metadata": {},
   "outputs": [],
   "source": []
  }
 ],
 "metadata": {
  "kernelspec": {
   "display_name": "base",
   "language": "python",
   "name": "python3"
  },
  "language_info": {
   "codemirror_mode": {
    "name": "ipython",
    "version": 3
   },
   "file_extension": ".py",
   "mimetype": "text/x-python",
   "name": "python",
   "nbconvert_exporter": "python",
   "pygments_lexer": "ipython3",
   "version": "3.10.8"
  },
  "orig_nbformat": 4,
  "vscode": {
   "interpreter": {
    "hash": "e40199dda8da9b508830e9cbab01b6adfc3e007bf238c8282f0c8d3ce75622cc"
   }
  }
 },
 "nbformat": 4,
 "nbformat_minor": 2
}
