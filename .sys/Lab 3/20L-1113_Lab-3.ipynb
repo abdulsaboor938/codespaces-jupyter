{
 "cells": [
  {
   "cell_type": "code",
   "execution_count": 1,
   "metadata": {},
   "outputs": [
    {
     "name": "stdout",
     "output_type": "stream",
     "text": [
      "[1, 0, 2, 0, 1, 0, 0]\n",
      "[1, 1, 0, 0, 0, 1, 1]\n",
      "[0, 1, 0, 1, 0, 0, 0]\n",
      "[1, 1, 0, 1, 1, 0, 1]\n",
      "[0, 1, 0, 1, 0, 0, 0]\n",
      "[0, 1, 1, 1, 0, 1, 1]\n",
      "[3, 0, 0, 0, 0, 0, 0]\n"
     ]
    }
   ],
   "source": [
    "# reading a 2d binary array from the file\n",
    "\n",
    "cube = []\n",
    "with open('cube.txt') as f:\n",
    "    for line in f:\n",
    "        cube.append([2 if x == 'S' else 3 if x == 'G' else int(x) for x in line.split()])\n",
    "    \n",
    "for i in range(len(cube)):\n",
    "    print(cube[i])"
   ]
  },
  {
   "cell_type": "code",
   "execution_count": 2,
   "metadata": {},
   "outputs": [],
   "source": [
    "# implementing with graphics library\n",
    "\n",
    "from graphics import *\n",
    "import time\n",
    "\n",
    "def graph_it(cube, visited = []):\n",
    "    win = GraphWin(\"Cube\", 500, 500)\n",
    "    win.setCoords(0, 0, 7, 7)\n",
    "\n",
    "    for i in range(len(cube)):\n",
    "        for j in range(len(cube[i])):\n",
    "            if cube[i][j] == 0:\n",
    "                color = 'white'\n",
    "            elif cube[i][j] == 1:\n",
    "                color = 'black'\n",
    "            elif cube[i][j] == 2:\n",
    "                color = 'red'\n",
    "            elif cube[i][j] == 3:\n",
    "                color = 'green'\n",
    "            else:\n",
    "                color = 'blue'\n",
    "            Rectangle(Point(i, j), Point(i+1, j+1)).draw(win).setFill(color)\n",
    "\n",
    "    for i in range(len(visited)):\n",
    "        # if not the goal state in cube\n",
    "        if cube[visited[i][0]][visited[i][1]] != 3:\n",
    "            Rectangle(Point(visited[i][0], visited[i][1]), Point(visited[i][0]+1, visited[i][1]+1)).draw(win).setFill('yellow')\n",
    "            time.sleep(0.2)\n",
    "        else:\n",
    "            break\n",
    "\n",
    "    # time.sleep(0.5)\n",
    "    win.getMouse()\n",
    "    win.close()\n",
    "\n",
    "# graph_it(cube)"
   ]
  },
  {
   "cell_type": "code",
   "execution_count": 3,
   "metadata": {},
   "outputs": [],
   "source": [
    "# now implementing BFS algorithm\n",
    "\n",
    "def bfs(): \n",
    "    queue = []\n",
    "    # queue.append((0, 0))\n",
    "    visited = []\n",
    "    # visited.append((0, 0))\n",
    "\n",
    "    # find the starting point\n",
    "    for i in range(len(cube)):\n",
    "        for j in range(len(cube[i])):\n",
    "            if cube[i][j] == 2:\n",
    "                queue.append((i, j))\n",
    "                visited.append((i, j))\n",
    "                break\n",
    "        if len(queue) > 0:\n",
    "            break\n",
    "\n",
    "    while len(queue) > 0:\n",
    "        (i, j) = queue.pop(0)\n",
    "        if cube[i][j] == 3:\n",
    "            return visited\n",
    "        if i > 0 and cube[i-1][j] != 1 and (i-1, j) not in visited:\n",
    "            queue.append((i-1, j))\n",
    "            visited.append((i-1, j))\n",
    "        if i < len(cube)-1 and cube[i+1][j] != 1 and (i+1, j) not in visited:\n",
    "            queue.append((i+1, j))\n",
    "            visited.append((i+1, j))\n",
    "        if j > 0 and cube[i][j-1] != 1 and (i, j-1) not in visited:\n",
    "            queue.append((i, j-1))\n",
    "            visited.append((i, j-1))\n",
    "        if j < len(cube[i])-1 and cube[i][j+1] != 1 and (i, j+1) not in visited:\n",
    "            queue.append((i, j+1))\n",
    "            visited.append((i, j+1))\n",
    "\n",
    "    return visited"
   ]
  },
  {
   "cell_type": "code",
   "execution_count": 4,
   "metadata": {},
   "outputs": [],
   "source": [
    "graph_it(cube, bfs())"
   ]
  },
  {
   "cell_type": "code",
   "execution_count": 5,
   "metadata": {},
   "outputs": [
    {
     "ename": "",
     "evalue": "",
     "output_type": "error",
     "traceback": [
      "\u001b[1;31mThe Kernel crashed while executing code in the the current cell or a previous cell. Please review the code in the cell(s) to identify a possible cause of the failure. Click <a href='https://aka.ms/vscodeJupyterKernelCrash'>here</a> for more info. View Jupyter <a href='command:jupyter.viewOutput'>log</a> for further details."
     ]
    }
   ],
   "source": [
    "# implementing a recursive dfs algorithm\n",
    "\n",
    "def dfs(i, j, visited):\n",
    "    if cube[i][j] == 3:\n",
    "        return visited\n",
    "    if i > 0 and cube[i-1][j] != 1 and (i-1, j) not in visited:\n",
    "        visited.append((i-1, j))\n",
    "        visited = dfs(i-1, j, visited)\n",
    "    if i < len(cube)-1 and cube[i+1][j] != 1 and (i+1, j) not in visited:\n",
    "        visited.append((i+1, j))\n",
    "        visited = dfs(i+1, j, visited)\n",
    "    if j > 0 and cube[i][j-1] != 1 and (i, j-1) not in visited:\n",
    "        visited.append((i, j-1))\n",
    "        visited = dfs(i, j-1, visited)\n",
    "    if j < len(cube[i])-1 and cube[i][j+1] != 1 and (i, j+1) not in visited:\n",
    "        visited.append((i, j+1))\n",
    "        visited = dfs(i, j+1, visited)\n",
    "    return visited\n",
    "\n",
    "# find the starting point\n",
    "for i in range(len(cube)):\n",
    "    for j in range(len(cube[i])):\n",
    "        if cube[i][j] == 2:\n",
    "            graph_it(cube, dfs(i, j, [(i, j)]))\n",
    "            break"
   ]
  },
  {
   "cell_type": "code",
   "execution_count": null,
   "metadata": {},
   "outputs": [],
   "source": []
  }
 ],
 "metadata": {
  "kernelspec": {
   "display_name": "base",
   "language": "python",
   "name": "python3"
  },
  "language_info": {
   "codemirror_mode": {
    "name": "ipython",
    "version": 3
   },
   "file_extension": ".py",
   "mimetype": "text/x-python",
   "name": "python",
   "nbconvert_exporter": "python",
   "pygments_lexer": "ipython3",
   "version": "3.10.8"
  },
  "orig_nbformat": 4,
  "vscode": {
   "interpreter": {
    "hash": "e40199dda8da9b508830e9cbab01b6adfc3e007bf238c8282f0c8d3ce75622cc"
   }
  }
 },
 "nbformat": 4,
 "nbformat_minor": 2
}
